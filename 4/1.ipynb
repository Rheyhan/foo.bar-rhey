{
 "cells": [
  {
   "cell_type": "code",
   "execution_count": 55,
   "metadata": {},
   "outputs": [],
   "source": [
    "entrances=[0, 1]\n",
    "exits=[4,5]\n",
    "matrix=[[0, 0, 4, 6, 0, 0], \n",
    "        [0, 0, 5, 2, 0, 0], \n",
    "        [0, 0, 0, 0, 4, 4],\n",
    "        [0, 0, 0, 0, 6, 6],\n",
    "        [0, 0, 0, 0, 0, 0],\n",
    "        [0, 0, 0, 0, 0, 0]]"
   ]
  },
  {
   "cell_type": "code",
   "execution_count": 25,
   "metadata": {},
   "outputs": [],
   "source": [
    "entrances=[0]\n",
    "exits=[3]\n",
    "matrix=[[0, 7, 0, 0], \n",
    "        [0, 0, 6, 0], \n",
    "        [0, 0, 0, 8], \n",
    "        [9, 0, 0, 0]]"
   ]
  },
  {
   "cell_type": "code",
   "execution_count": 39,
   "metadata": {},
   "outputs": [
    {
     "name": "stdout",
     "output_type": "stream",
     "text": [
      "2\n",
      "1\n",
      "0\n",
      "Max Flow: 6\n"
     ]
    }
   ],
   "source": [
    "from collections import deque\n",
    "\n",
    "class Graph:\n",
    "    def __init__(self, graph):\n",
    "        self.graph = graph\n",
    "        self.ROW = len(graph)\n",
    "\n",
    "    # Using BFS as a searching algorithm\n",
    "    def searching_algo_BFS(self, s, t, parent):\n",
    "        visited = [False] * (self.ROW)\n",
    "        queue = deque()\n",
    "        queue.append(s)\n",
    "        visited[s] = True\n",
    "\n",
    "        while queue:\n",
    "            u = queue.popleft()\n",
    "\n",
    "            for ind, val in enumerate(self.graph[u]):\n",
    "                if visited[ind] == False and val > 0:\n",
    "                    queue.append(ind)\n",
    "                    visited[ind] = True\n",
    "                    parent[ind] = u\n",
    "\n",
    "        return True if visited[t] else False\n",
    "    \n",
    "    def ford_fulkerson(self, source, sink):\n",
    "        parent = [-1] * (self.ROW)\n",
    "        max_flow = 0\n",
    "\n",
    "        while self.searching_algo_BFS(source, sink, parent):\n",
    "            path_flow = float(\"Inf\")\n",
    "            s = sink\n",
    "            \n",
    "            while s != source:\n",
    "                path_flow = min(path_flow, self.graph[parent[s]][s])\n",
    "                s = parent[s]\n",
    "                \n",
    "            max_flow += path_flow\n",
    "            v = sink\n",
    "\n",
    "            while v != source:\n",
    "                u = parent[v]\n",
    "                self.graph[u][v] -= path_flow\n",
    "                self.graph[v][u] += path_flow\n",
    "                v = parent[v]\n",
    "                print(v)\n",
    "                \n",
    "        return max_flow\n",
    "\n",
    "# Sample usage\n",
    "if __name__ == \"__main__\":\n",
    "    graph = [[0, 7, 0, 0],\n",
    "             [0, 0, 6, 0],\n",
    "             [0, 0, 0, 8],\n",
    "             [9, 0, 0, 0]]\n",
    "\n",
    "    g = Graph(graph)\n",
    "    source = 0\n",
    "    sink = 3\n",
    "\n",
    "    print(\"Max Flow:\", g.ford_fulkerson(source, sink))"
   ]
  }
 ],
 "metadata": {
  "kernelspec": {
   "display_name": "Python 3",
   "language": "python",
   "name": "python3"
  },
  "language_info": {
   "codemirror_mode": {
    "name": "ipython",
    "version": 3
   },
   "file_extension": ".py",
   "mimetype": "text/x-python",
   "name": "python",
   "nbconvert_exporter": "python",
   "pygments_lexer": "ipython3",
   "version": "3.11.6"
  }
 },
 "nbformat": 4,
 "nbformat_minor": 2
}
