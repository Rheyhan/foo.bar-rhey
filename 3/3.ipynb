{
 "cells": [
  {
   "cell_type": "code",
   "execution_count": 1,
   "metadata": {},
   "outputs": [],
   "source": [
    "#should i use reinforcement learning?\n",
    "#idk"
   ]
  },
  {
   "cell_type": "code",
   "execution_count": 6,
   "metadata": {},
   "outputs": [],
   "source": [
    "import random\n",
    "import copy\n",
    "\n",
    "\n",
    "def solution(map):\n",
    "    if len(map)==1 and len(map[0])==1: return 1\n",
    "    map[len(map)-1][len(map[0])-1]=\"x\"\n",
    "\n",
    "    #get 1 index\n",
    "    the1index=[]\n",
    "    for i in range(len(map)):\n",
    "        for j in range(len(map[0])):\n",
    "            if map[i][j]==1: the1index.append([i+1,j+1])\n",
    "            \n",
    "    for i in range(len(map)):\n",
    "        map[i].insert(0,1)\n",
    "        map[i].append(1)\n",
    "        \n",
    "    temp=[1 for i in range(len(map[0]))]\n",
    "    map.insert(0, temp)\n",
    "    map.append(temp)\n",
    "    \n",
    "    counterlist=[]\n",
    "    for a,b in the1index:\n",
    "        thebleh=copy.deepcopy(map)\n",
    "        thebleh[a][b]=0\n",
    "        for i in range(40):\n",
    "            i=1;j=1\n",
    "            counter=1\n",
    "            mapcopy=copy.deepcopy(thebleh)\n",
    "            while True:\n",
    "                mapcopy[i][j]=-1\n",
    "                if mapcopy[i+1][j]==\"x\" or mapcopy[i][j+1]==\"x\" or mapcopy[i][j-1]==\"x\" or mapcopy[i-1][j]==\"x\": \n",
    "                    counter+=1\n",
    "                    counterlist.append(counter)\n",
    "                    break                                           #ending the iter\n",
    "\n",
    "                if mapcopy[i+1][j]==0 and mapcopy[i][j+1]==0:           # if 2 ways (down and right)\n",
    "                    if random.uniform(0,1) > 0.5:\n",
    "                        i+=1                                    #go down\n",
    "                    else:\n",
    "                        j+=1                                    #go right\n",
    "                    counter+=1\n",
    "                \n",
    "                elif mapcopy[i+1][j]==0 and mapcopy[i][j-1]==0:           # if 2 ways (down and left)\n",
    "                    if random.uniform(0,1) > 0.5:\n",
    "                        i+=1                                    #go down\n",
    "                    else:\n",
    "                        j-=1                                    #go left\n",
    "                    counter+=1\n",
    "                    \n",
    "                elif mapcopy[i-1][j]==0 and mapcopy[i][j+1]==0:           # if 2 ways (up and right)\n",
    "                    if random.uniform(0,1) > 0.5:\n",
    "                        i-=1                                    #go up\n",
    "                    else:\n",
    "                        j+=1                                    #go right\n",
    "                    counter+=1\n",
    "                    \n",
    "                elif mapcopy[i-1][j]==0 and mapcopy[i][j-1]==0:           # if 2 ways (up and left)\n",
    "                    if random.uniform(0,1) > 0.5:\n",
    "                        i-=1                                    #go up\n",
    "                    else:\n",
    "                        j-=1                                    #go left\n",
    "                    counter+=1\n",
    "                    \n",
    "                elif mapcopy[i+1][j]==0 and mapcopy[i-i][j]==0:           # if 2 ways (up and down)\n",
    "                    if random.uniform(0,1) > 0.5:\n",
    "                        i+=1                                    #go down\n",
    "                    else:\n",
    "                        i-=1                                    #go up\n",
    "                    counter+=1\n",
    "                    \n",
    "                elif mapcopy[i][j+1]==0 and mapcopy[i][j-1]==0:           # if 2 ways (left and right)\n",
    "                    if random.uniform(0,1) > 0.5:\n",
    "                        j-=1                                    #go left\n",
    "                    else:\n",
    "                        j+=1                                    #go right\n",
    "                    counter+=1\n",
    "                        \n",
    "                elif mapcopy[i+1][j]==0: i+=1; counter+=1\n",
    "                elif mapcopy[i][j+1]==0: j+=1; counter+=1\n",
    "                elif mapcopy[i-1][j]==0: i-=1; counter+=1\n",
    "                elif mapcopy[i][j-1]==0: j-=1; counter+=1\n",
    "                else: break\n",
    "    return min(counterlist)"
   ]
  },
  {
   "cell_type": "code",
   "execution_count": 2,
   "metadata": {},
   "outputs": [
    {
     "name": "stdout",
     "output_type": "stream",
     "text": [
      "Test 1 passed\n",
      "Test 2 passed\n",
      "Test 3 passed\n",
      "Test 4 passed\n",
      "Test 5 passed\n",
      "Test 6 passed\n"
     ]
    },
    {
     "data": {
      "text/plain": [
       "<__main__.testshit at 0x29279cfda50>"
      ]
     },
     "execution_count": 2,
     "metadata": {},
     "output_type": "execute_result"
    }
   ],
   "source": [
    "#tester\n",
    "the1=[[0, 0, 0, 0, 0, 0], \n",
    "    [1, 1, 1, 1, 1, 0], \n",
    "    [0, 0, 0, 0, 0, 0], \n",
    "    [0, 1, 1, 1, 1, 1], \n",
    "    [0, 1, 1, 1, 1, 1], \n",
    "    [0, 0, 0, 0, 0, 0]]\n",
    "the2=[[0, 1, 1, 0], \n",
    "    [0, 0, 0, 1], \n",
    "    [1, 1, 0, 0], \n",
    "    [1, 1, 1, 0]]\n",
    "the3=[[0]]\n",
    "the4=[[0, 1, 1, 0], [0, 0, 0, 1], [1, 1, 0, 0], [1, 1, 1, 0]]\n",
    "the5=[[0, 0, 0, 0, 0, 0],[1, 1, 1, 1, 1, 0],[1, 1, 1, 1, 1, 1],[0, 0, 0, 0, 0, 0],[0, 1, 1, 1, 1, 1],[0, 0, 0, 0, 0, 0]]\n",
    "the6=[[0,1,1,1],\n",
    "      [0,1,0,0],\n",
    "      [1,0,1,0],\n",
    "      [1,1,0,0]]\n",
    "class testshit:\n",
    "    def __init__(self):\n",
    "        self.first()\n",
    "        self.second()\n",
    "        self.third()\n",
    "        self.fourth()\n",
    "        self.fifth()\n",
    "        self.sixth()\n",
    "        \n",
    "    def first(self):\n",
    "        if solution(the1)==11: print(f'Test 1 passed') \n",
    "        else: print(f'Test 1 failed')\n",
    "    def second(self):\n",
    "        if solution(the2)==7: print(f'Test 2 passed') \n",
    "        else: print(f'Test 2 failed')\n",
    "    def third(self):\n",
    "        if solution(the3)==1: print(f'Test 3 passed') \n",
    "        else: print(f'Test 3 failed')\n",
    "    def fourth(self):\n",
    "        if solution(the4)==7: print(f'Test 4 passed') \n",
    "        else: print(f'Test 4 failed')\n",
    "    def fifth(self):\n",
    "        if solution(the5)==21: print(f'Test 5 passed') \n",
    "        else: print(f'Test 5 failed')\n",
    "    def sixth(self):\n",
    "        if solution(the6)==7: print(f'Test 6 passed') \n",
    "        else: print(f'Test 6 failed')\n",
    "        \n",
    "        \n",
    "testshit()"
   ]
  },
  {
   "cell_type": "code",
   "execution_count": 7,
   "metadata": {},
   "outputs": [],
   "source": [
    "map=[[0, 0, 1, 0, 0, 0, 0, 0, 0, 0, 0, 0, 0, 0, 0, 0, 0, 0, 0, 0],\n",
    "    [1, 1, 0, 1, 1, 1, 1, 1, 1, 1, 1, 1, 1, 1, 1, 1, 1, 1, 1, 0],\n",
    "    [1, 1, 0, 0, 0, 0, 0, 0, 0, 0, 0, 0, 0, 0, 0, 0, 0, 0, 0, 0],\n",
    "    [1, 1, 1, 0, 0, 1, 1, 1, 1, 1, 1, 1, 1, 1, 1, 1, 1, 1, 1, 1],\n",
    "    [1, 1, 1, 1, 0, 0, 1, 1, 1, 1, 1, 1, 1, 1, 1, 1, 1, 1, 1, 0],\n",
    "    [1, 0, 0, 0, 0, 0, 0, 0, 0, 0, 0, 0, 0, 0, 0, 0, 0, 0, 0, 0],\n",
    "    [1, 1, 1, 1, 1, 1, 0, 1, 1, 1, 1, 1, 1, 1, 1, 1, 1, 1, 1, 0],\n",
    "    [0, 0, 0, 0, 0, 0, 0, 0, 0, 0, 0, 0, 0, 0, 0, 0, 0, 0, 0, 0],\n",
    "    [0, 1, 1, 1, 1, 1, 1, 0, 0, 1, 1, 1, 1, 1, 1, 1, 1, 1, 1, 1],\n",
    "    [0, 1, 1, 1, 1, 1, 1, 1, 0, 0, 1, 1, 1, 1, 1, 1, 1, 1, 1, 1],\n",
    "    [0, 0, 0, 0, 0, 0, 0, 0, 0, 0, 0, 0, 0, 0, 0, 0, 0, 0, 0, 0],\n",
    "    [1, 1, 1, 1, 1, 1, 1, 1, 1, 1, 0, 1, 1, 1, 1, 1, 1, 1, 1, 0],\n",
    "    [0, 0, 0, 0, 0, 0, 0, 0, 0, 0, 0, 0, 0, 0, 0, 0, 0, 0, 0, 0],\n",
    "    [0, 1, 1, 1, 1, 1, 1, 1, 1, 1, 0, 0, 1, 1, 1, 1, 1, 1, 1, 1],\n",
    "    [0, 1, 1, 1, 1, 1, 1, 1, 1, 1, 1, 0, 1, 1, 1, 1, 1, 1, 1, 1],\n",
    "    [0, 0, 0, 0, 0, 0, 0, 0, 0, 0, 0, 0, 0, 0, 0, 0, 0, 0, 0, 0],\n",
    "    [1, 1, 1, 1, 1, 1, 1, 1, 1, 1, 1, 1, 1, 0, 1, 1, 1, 1, 1, 0],\n",
    "    [0, 0, 0, 0, 0, 0, 0, 0, 0, 0, 0, 0, 0, 0, 0, 0, 0, 0, 0, 0],\n",
    "    [0, 1, 1, 1, 1, 1, 1, 1, 1, 1, 1, 1, 1, 1, 1, 1, 1, 1, 1, 0],\n",
    "    [0, 0, 0, 0, 0, 0, 0, 0, 0, 0, 0, 0, 0, 0, 0, 0, 0, 0, 0, 0]]\n",
    "\n",
    "map[len(map)-1][len(map[0])-1]=\"x\"\n",
    "\n",
    "#get 1 index\n",
    "the1index=[]\n",
    "for i in range(len(map)):\n",
    "    for j in range(len(map[0])):\n",
    "        if map[i][j]==1: the1index.append([i+1,j+1])\n",
    "        \n",
    "for i in range(len(map)):\n",
    "    map[i].insert(0,1)\n",
    "    map[i].append(1)\n",
    "    \n",
    "temp=[1 for i in range(len(map[0]))]\n",
    "map.insert(0, temp)\n",
    "map.append(temp)"
   ]
  },
  {
   "cell_type": "code",
   "execution_count": 8,
   "metadata": {},
   "outputs": [],
   "source": [
    "counterlist=[]\n",
    "for a,b in the1index:\n",
    "    thebleh=copy.deepcopy(map)\n",
    "    thebleh[a][b]=0\n",
    "    for i in range(300):\n",
    "        i=1;j=1\n",
    "        counter=1\n",
    "        mapcopy=copy.deepcopy(thebleh)\n",
    "        while True:\n",
    "            mapcopy[i][j]=-1\n",
    "            if mapcopy[i+1][j]==\"x\" or mapcopy[i][j+1]==\"x\" or mapcopy[i][j-1]==\"x\" or mapcopy[i-1][j]==\"x\": \n",
    "                counter+=1\n",
    "                counterlist.append(counter)\n",
    "                break                                           #ending the iter\n",
    "            \n",
    "            if mapcopy[i+1][j]==0 and mapcopy[i][j+1]==0:           # if 2 ways (down and right)\n",
    "                if random.uniform(0,1) > 0.5:\n",
    "                    i+=1                                    #go down\n",
    "                else:\n",
    "                    j+=1                                    #go right\n",
    "                counter+=1\n",
    "            \n",
    "            elif mapcopy[i+1][j]==0 and mapcopy[i][j-1]==0:           # if 2 ways (down and left)\n",
    "                if random.uniform(0,1) > 0.5:\n",
    "                    i+=1                                    #go down\n",
    "                else:\n",
    "                    j-=1                                    #go left\n",
    "                counter+=1\n",
    "                \n",
    "            elif mapcopy[i-1][j]==0 and mapcopy[i][j+1]==0:           # if 2 ways (up and right)\n",
    "                if random.uniform(0,1) > 0.5:\n",
    "                    i-=1                                    #go up\n",
    "                else:\n",
    "                    j+=1                                    #go right\n",
    "                counter+=1\n",
    "                \n",
    "            elif mapcopy[i-1][j]==0 and mapcopy[i][j-1]==0:           # if 2 ways (up and left)\n",
    "                if random.uniform(0,1) > 0.5:\n",
    "                    i-=1                                    #go up\n",
    "                else:\n",
    "                    j-=1                                    #go left\n",
    "                counter+=1\n",
    "                \n",
    "            elif mapcopy[i+1][j]==0 and mapcopy[i-i][j]==0:           # if 2 ways (up and down)\n",
    "                if random.uniform(0,1) > 0.5:\n",
    "                    i+=1                                    #go down\n",
    "                else:\n",
    "                    i-=1                                    #go up\n",
    "                counter+=1\n",
    "                \n",
    "            elif mapcopy[i][j+1]==0 and mapcopy[i][j-1]==0:           # if 2 ways (left and right)\n",
    "                if random.uniform(0,1) > 0.5:\n",
    "                    j-=1                                    #go left\n",
    "                else:\n",
    "                    j+=1                                    #go right\n",
    "                counter+=1\n",
    "                    \n",
    "            elif mapcopy[i+1][j]==0: i+=1; counter+=1\n",
    "            elif mapcopy[i][j+1]==0: j+=1; counter+=1\n",
    "            elif mapcopy[i-1][j]==0: i-=1; counter+=1\n",
    "            elif mapcopy[i][j-1]==0: j-=1; counter+=1\n",
    "            else: break"
   ]
  },
  {
   "cell_type": "code",
   "execution_count": 9,
   "metadata": {},
   "outputs": [
    {
     "data": {
      "text/plain": [
       "[145, 131, 109, 91, 129, 71, 55, 93, 91, 39, 89, 105, 53, 91]"
      ]
     },
     "execution_count": 9,
     "metadata": {},
     "output_type": "execute_result"
    }
   ],
   "source": [
    "counterlist"
   ]
  },
  {
   "cell_type": "code",
   "execution_count": 251,
   "metadata": {},
   "outputs": [],
   "source": [
    "class answer:\n",
    "    def __init__(self, matriks):\n",
    "        self.matriks=matriks\n",
    "        self.h=len(matriks)\n",
    "        self.w=len(matriks[0])\n",
    "        self.temp1=self.getpath(0, 0)\n",
    "        self.temp2=self.getpath(self.h-1, self.w-1)\n",
    "        \n",
    "        templist=[]\n",
    "        for i in range(self.h):\n",
    "            for j in range(self.w):\n",
    "                if self.temp1[i][j] and self.temp2[i][j]:\n",
    "                    templist.append(self.temp1[i][j]+self.temp2[i][j]-1)\n",
    "        self.result=min(templist)\n",
    "        \n",
    "    def getpath(self, changeY, changeX):\n",
    "        temp=[[None for i in range(self.w)] for i in range(self.h)]\n",
    "        temp[changeY][changeX]=1\n",
    "        arr=[(changeY, changeX)]\n",
    "        while arr:\n",
    "            y,x=arr.pop(0)\n",
    "            \n",
    "            for j, i in [[0,1], [1,0], [0,-1], [-1,0]]:\n",
    "                \n",
    "                sy, sx = y+j, x+i\n",
    "                \n",
    "                if 0<=sx<self.w and 0<=sy<self.h:\n",
    "                    \n",
    "                    if self.matriks[sy][sx]==0 and temp[sy][sx]==None:\n",
    "                        temp[sy][sx]=temp[y][x]+1\n",
    "                        arr.append((sy,sx))\n",
    "                        \n",
    "                    elif self.matriks[sy][sx]==1 and temp[sy][sx]==None:\n",
    "                        temp[sy][sx]=temp[y][x]+1\n",
    "        return temp\n",
    "\n",
    "def solution(map):\n",
    "    return answer(map).result"
   ]
  },
  {
   "cell_type": "code",
   "execution_count": 252,
   "metadata": {},
   "outputs": [
    {
     "data": {
      "text/plain": [
       "7"
      ]
     },
     "execution_count": 252,
     "metadata": {},
     "output_type": "execute_result"
    }
   ],
   "source": [
    "maze=[[0, 0, 0, 0, 0, 0],\n",
    "    [1, 1, 1, 1, 1, 0],\n",
    "    [0, 0, 0, 0, 0, 0],\n",
    "    [0, 1, 1, 1, 1, 1],\n",
    "    [0, 1, 1, 1, 1, 1],\n",
    "    [0, 0, 0, 0, 0, 0]]         #21\n",
    "\n",
    "maze1=[[0, 1, 1, 0], \n",
    "        [0, 0, 0, 1], \n",
    "        [1, 1, 0, 0], \n",
    "        [1, 1, 1, 0]]           #11\n",
    "\n",
    "solution(maze1)"
   ]
  },
  {
   "cell_type": "code",
   "execution_count": 237,
   "metadata": {},
   "outputs": [],
   "source": [
    "#TESTING 3!111111\n",
    "maze=[[0, 0, 0, 0, 0, 0],\n",
    "    [1, 1, 1, 1, 1, 0],\n",
    "    [0, 0, 0, 0, 0, 0],\n",
    "    [0, 1, 1, 1, 1, 1],\n",
    "    [0, 1, 1, 1, 1, 1],\n",
    "    [0, 0, 0, 0, 0, 0]]\n",
    "\n",
    "h=len(maze)\n",
    "w=len(maze[0])\n",
    "temp=[[None for i in range(w)] for i in range(h)]\n",
    "\n",
    "changeY=0;changeX=0\n",
    "arr=[(changeY, changeX)]\n",
    "\n",
    "temp[changeY][changeX]=1"
   ]
  },
  {
   "cell_type": "code",
   "execution_count": 238,
   "metadata": {},
   "outputs": [
    {
     "data": {
      "text/plain": [
       "[[1, None, None, None, None, None],\n",
       " [None, None, None, None, None, None],\n",
       " [None, None, None, None, None, None],\n",
       " [None, None, None, None, None, None],\n",
       " [None, None, None, None, None, None],\n",
       " [None, None, None, None, None, None]]"
      ]
     },
     "execution_count": 238,
     "metadata": {},
     "output_type": "execute_result"
    }
   ],
   "source": [
    "temp"
   ]
  },
  {
   "cell_type": "code",
   "execution_count": 239,
   "metadata": {},
   "outputs": [],
   "source": [
    "while arr:\n",
    "    y,x= arr.pop(0)\n",
    "    \n",
    "    for j, i in [[0,1], [1,0], [0,-1], [-1,0]]:\n",
    "        \n",
    "        sy, sx = y+j, x+i\n",
    "        \n",
    "        if 0<=sx<w and 0<=sy<h:\n",
    "            \n",
    "            if maze[sy][sx]==0 and temp[sy][sx]==None: \n",
    "                temp[sy][sx]=temp[y][x]+1\n",
    "                arr=[(sy,sx)]\n",
    "                \n",
    "            elif maze[sy][sx]==1 and temp[sy][sx]==None:\n",
    "                temp[sy][sx]=temp[y][x]+1"
   ]
  },
  {
   "cell_type": "code",
   "execution_count": 240,
   "metadata": {},
   "outputs": [
    {
     "data": {
      "text/plain": [
       "[[1, 2, 3, 4, 5, 6],\n",
       " [2, 3, 4, 5, 6, 7],\n",
       " [13, 12, 11, 10, 9, 8],\n",
       " [14, 13, 12, 11, 10, 9],\n",
       " [15, 16, 19, 20, 21, 22],\n",
       " [16, 17, 18, 19, 20, 21]]"
      ]
     },
     "execution_count": 240,
     "metadata": {},
     "output_type": "execute_result"
    }
   ],
   "source": [
    "temp"
   ]
  }
 ],
 "metadata": {
  "kernelspec": {
   "display_name": "Python 3",
   "language": "python",
   "name": "python3"
  },
  "language_info": {
   "codemirror_mode": {
    "name": "ipython",
    "version": 3
   },
   "file_extension": ".py",
   "mimetype": "text/x-python",
   "name": "python",
   "nbconvert_exporter": "python",
   "pygments_lexer": "ipython3",
   "version": "3.11.6"
  }
 },
 "nbformat": 4,
 "nbformat_minor": 2
}
