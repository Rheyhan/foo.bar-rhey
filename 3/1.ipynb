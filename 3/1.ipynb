{
 "cells": [
  {
   "cell_type": "code",
   "execution_count": 89,
   "metadata": {},
   "outputs": [],
   "source": [
    "#1 Failed\n",
    "def solution(l):\n",
    "    thelist=[]\n",
    "    n=len(l)\n",
    "    for i in range(n - 2):\n",
    "        for j in range(i + 1, n - 1):\n",
    "            for k in range(j + 1, n):\n",
    "                if l[j]%l[i]==0 and l[k]%l[j]==0: thelist.append([l[i], l[j], l[k]])\n",
    "    return len(thelist)"
   ]
  },
  {
   "cell_type": "code",
   "execution_count": 91,
   "metadata": {},
   "outputs": [
    {
     "name": "stdout",
     "output_type": "stream",
     "text": [
      "Test 1 passed\n",
      "Test 2 passed\n"
     ]
    },
    {
     "data": {
      "text/plain": [
       "<__main__.testshit at 0x29a07af1c90>"
      ]
     },
     "execution_count": 91,
     "metadata": {},
     "output_type": "execute_result"
    }
   ],
   "source": [
    "#tester\n",
    "\n",
    "class testshit:\n",
    "    def __init__(self):\n",
    "        self.first()\n",
    "        self.second()\n",
    "    \n",
    "    def first(self):\n",
    "        if solution([1, 1, 1])==1: print(f'Test 1 passed') \n",
    "        else: print(f'Test 1 failed')\n",
    "    def second(self):\n",
    "        if solution([1, 2, 3, 4, 5, 6])==3: print(f'Test 2 passed') \n",
    "        else: print(f'Test 2 failed')"
   ]
  },
  {
   "cell_type": "code",
   "execution_count": 149,
   "metadata": {},
   "outputs": [],
   "source": [
    "#2 Try!111\n",
    "def solution(l):\n",
    "    temp, mek, final =[], [], []\n",
    "    n=len(l)\n",
    "    for i in range(n - 2):\n",
    "        for j in range(i + 1, n - 1):\n",
    "            if l[j]%l[i]==0: temp.append([l[i], l[j]])\n",
    "\n",
    "    for i in range(1, n):\n",
    "        for j in range(i+1, n):\n",
    "            if l[j]%l[i]==0: mek.append([l[i], l[j]])\n",
    "\n",
    "    for i in range(len(temp)):\n",
    "        for j in range(len(mek)):\n",
    "            if temp[i][1] == mek[j][0]: final.append([temp[i][0], temp[i][1], mek[j][1]])\n",
    "\n",
    "    return len(final)"
   ]
  },
  {
   "cell_type": "code",
   "execution_count": null,
   "metadata": {},
   "outputs": [],
   "source": [
    "#3rd\n",
    "def solution(l):\n",
    "    n = len(l)\n",
    "    arr = [0] * n\n",
    "    for i in range(n):\n",
    "        for j in range(i+1, n):\n",
    "            if l[j] % l[i] == 0:\n",
    "                arr[i] += 1\n",
    "    res = 0\n",
    "    for i in range(n):\n",
    "        for j in range(i+1, n):\n",
    "            if l[j] % l[i] == 0:\n",
    "                res += arr[j]\n",
    "    return res"
   ]
  },
  {
   "cell_type": "code",
   "execution_count": 162,
   "metadata": {},
   "outputs": [],
   "source": [
    "class testshit:\n",
    "    def __init__(self):\n",
    "        self.first()\n",
    "        self.second()\n",
    "    \n",
    "    def first(self):\n",
    "        if solution([1, 1, 1])==1: print(f'Test 1 passed') \n",
    "        else: print(f'Test 1 failed')\n",
    "    def second(self):\n",
    "        if solution([1, 2, 3, 4, 5, 6])==3: print(f'Test 2 passed') \n",
    "        else: print(f'Test 2 failed')"
   ]
  },
  {
   "cell_type": "code",
   "execution_count": 171,
   "metadata": {},
   "outputs": [],
   "source": [
    "def answer(l):\n",
    "    n = len(l)\n",
    "    if n < 3: return 0\n",
    "      \n",
    "    temp = 0\n",
    "    cache = [0] * n\n",
    "    for x in range(n):\n",
    "        for y in range(x + 1, n):\n",
    "            if l[y] % l[x] == 0:\n",
    "                cache[y] += 1\n",
    "                temp += cache[x]\n",
    "\n",
    "    return temp"
   ]
  },
  {
   "cell_type": "code",
   "execution_count": 172,
   "metadata": {},
   "outputs": [
    {
     "data": {
      "text/plain": [
       "3"
      ]
     },
     "execution_count": 172,
     "metadata": {},
     "output_type": "execute_result"
    }
   ],
   "source": [
    "answer([1, 2, 3, 4, 5, 6])"
   ]
  },
  {
   "cell_type": "code",
   "execution_count": 164,
   "metadata": {},
   "outputs": [
    {
     "data": {
      "text/plain": [
       "4"
      ]
     },
     "execution_count": 164,
     "metadata": {},
     "output_type": "execute_result"
    }
   ],
   "source": [
    "res"
   ]
  }
 ],
 "metadata": {
  "kernelspec": {
   "display_name": "Python 3",
   "language": "python",
   "name": "python3"
  },
  "language_info": {
   "codemirror_mode": {
    "name": "ipython",
    "version": 3
   },
   "file_extension": ".py",
   "mimetype": "text/x-python",
   "name": "python",
   "nbconvert_exporter": "python",
   "pygments_lexer": "ipython3",
   "version": "3.11.6"
  }
 },
 "nbformat": 4,
 "nbformat_minor": 2
}
