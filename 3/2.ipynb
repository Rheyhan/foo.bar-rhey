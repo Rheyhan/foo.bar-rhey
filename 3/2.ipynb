{
 "cells": [
  {
   "cell_type": "code",
   "execution_count": 4,
   "metadata": {},
   "outputs": [
    {
     "data": {
      "text/plain": [
       "'impossible'"
      ]
     },
     "execution_count": 4,
     "metadata": {},
     "output_type": "execute_result"
    }
   ],
   "source": [
    "#1\n",
    "def solution(x, y):\n",
    "    x, y = int(x), int(y)\n",
    "    iter=0\n",
    "    if x==y: return str(iter)\n",
    "    while (True):\n",
    "        if x>y: x-=y \n",
    "        elif y>x: y-=x\n",
    "        iter+=1\n",
    "        if x==1 and y==1: return str(iter)\n",
    "        elif x==y or x<1 or y<1: return \"impossible\"\n",
    "        \n",
    "solution(\"8\", \"4\")"
   ]
  },
  {
   "cell_type": "code",
   "execution_count": 39,
   "metadata": {},
   "outputs": [
    {
     "name": "stdout",
     "output_type": "stream",
     "text": [
      "Test 1 passed\n",
      "Test 2 passed\n",
      "Test 3 passed\n",
      "Test 4 passed\n"
     ]
    },
    {
     "data": {
      "text/plain": [
       "<__main__.testshit at 0x1e61f422d10>"
      ]
     },
     "execution_count": 39,
     "metadata": {},
     "output_type": "execute_result"
    }
   ],
   "source": [
    "#tester\n",
    "\n",
    "class testshit:\n",
    "    def __init__(self):\n",
    "        self.first()\n",
    "        self.second()\n",
    "        self.third()\n",
    "        self.fourth()\n",
    "        \n",
    "    def first(self):\n",
    "        if solution(\"4\", \"7\")==\"4\": print(f'Test 1 passed') \n",
    "        else: print(f'Test 1 failed')\n",
    "    def second(self):\n",
    "        if solution(\"2\", \"1\")==\"1\": print(f'Test 2 passed') \n",
    "        else: print(f'Test 2 failed')\n",
    "    def third(self):\n",
    "        if solution(\"2\", \"4\")==\"impossible\": print(f'Test 3 passed') \n",
    "        else: print(f'Test 3 failed')\n",
    "    def fourth(self):\n",
    "        if solution(\"-1\", \"2\")==\"impossible\": print(f'Test 4 passed') \n",
    "        else: print(f'Test 4 failed')\n",
    "        \n",
    "testshit()"
   ]
  },
  {
   "cell_type": "code",
   "execution_count": 20,
   "metadata": {},
   "outputs": [],
   "source": [
    "#2\n",
    "def theidk(a,b):\n",
    "    returnthis=0    \n",
    "    if a > 10*b:\n",
    "        multiplier = int(a/b) -1\n",
    "        returnthis += multiplier\n",
    "        a = a - (multiplier*b)\n",
    "    else:\n",
    "        a-=b\n",
    "        returnthis += 1\n",
    "    return a, returnthis\n",
    "\n",
    "def solution(x,y):\n",
    "    x, y = int(x), int(y)\n",
    "    temp=0\n",
    "    while True:\n",
    "        if x==1 and y==1: return str(temp)\n",
    "        elif x<1 or y<1 or x==y: return \"impossible\"\n",
    "        else:\n",
    "            if x>y:x, iter=theidk(x,y)\n",
    "            elif y>x: y, iter=theidk(y,x)            \n",
    "            temp+=iter"
   ]
  },
  {
   "cell_type": "code",
   "execution_count": 21,
   "metadata": {},
   "outputs": [
    {
     "name": "stdout",
     "output_type": "stream",
     "text": [
      "Test 1 passed\n",
      "Test 2 passed\n",
      "Test 3 passed\n",
      "Test 4 passed\n"
     ]
    },
    {
     "data": {
      "text/plain": [
       "<__main__.testshit at 0x1c0f7465990>"
      ]
     },
     "execution_count": 21,
     "metadata": {},
     "output_type": "execute_result"
    }
   ],
   "source": [
    "#tester\n",
    "\n",
    "class testshit:\n",
    "    def __init__(self):\n",
    "        self.first()\n",
    "        self.second()\n",
    "        self.third()\n",
    "        self.fourth()\n",
    "        \n",
    "    def first(self):\n",
    "        if solution(\"4\", \"7\")==\"4\": print(f'Test 1 passed') \n",
    "        else: print(f'Test 1 failed')\n",
    "    def second(self):\n",
    "        if solution(\"2\", \"1\")==\"1\": print(f'Test 2 passed') \n",
    "        else: print(f'Test 2 failed')\n",
    "    def third(self):\n",
    "        if solution(\"2\", \"4\")==\"impossible\": print(f'Test 3 passed') \n",
    "        else: print(f'Test 3 failed')\n",
    "    def fourth(self):\n",
    "        if solution(\"-1\", \"2\")==\"impossible\": print(f'Test 4 passed') \n",
    "        else: print(f'Test 4 failed')\n",
    "        \n",
    "testshit()"
   ]
  }
 ],
 "metadata": {
  "kernelspec": {
   "display_name": "Python 3",
   "language": "python",
   "name": "python3"
  },
  "language_info": {
   "codemirror_mode": {
    "name": "ipython",
    "version": 3
   },
   "file_extension": ".py",
   "mimetype": "text/x-python",
   "name": "python",
   "nbconvert_exporter": "python",
   "pygments_lexer": "ipython3",
   "version": "3.11.6"
  }
 },
 "nbformat": 4,
 "nbformat_minor": 2
}
