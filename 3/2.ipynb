{
 "cells": [
  {
   "cell_type": "code",
   "execution_count": 4,
   "metadata": {},
   "outputs": [
    {
     "data": {
      "text/plain": [
       "'impossible'"
      ]
     },
     "execution_count": 4,
     "metadata": {},
     "output_type": "execute_result"
    }
   ],
   "source": [
    "#1\n",
    "def solution(x, y):\n",
    "    x, y = int(x), int(y)\n",
    "    iter=0\n",
    "    if x==y: return str(iter)\n",
    "    while (True):\n",
    "        if x>y: x-=y \n",
    "        elif y>x: y-=x\n",
    "        iter+=1\n",
    "        if x==1 and y==1: return str(iter)\n",
    "        elif x==y or x<1 or y<1: return \"impossible\"\n",
    "        \n",
    "solution(\"8\", \"4\")"
   ]
  },
  {
   "cell_type": "code",
   "execution_count": 39,
   "metadata": {},
   "outputs": [
    {
     "name": "stdout",
     "output_type": "stream",
     "text": [
      "Test 1 passed\n",
      "Test 2 passed\n",
      "Test 3 passed\n",
      "Test 4 passed\n"
     ]
    },
    {
     "data": {
      "text/plain": [
       "<__main__.testshit at 0x1e61f422d10>"
      ]
     },
     "execution_count": 39,
     "metadata": {},
     "output_type": "execute_result"
    }
   ],
   "source": [
    "#tester\n",
    "\n",
    "class testshit:\n",
    "    def __init__(self):\n",
    "        self.first()\n",
    "        self.second()\n",
    "        self.third()\n",
    "        self.fourth()\n",
    "        \n",
    "    def first(self):\n",
    "        if solution(\"4\", \"7\")==\"4\": print(f'Test 1 passed') \n",
    "        else: print(f'Test 1 failed')\n",
    "    def second(self):\n",
    "        if solution(\"2\", \"1\")==\"1\": print(f'Test 2 passed') \n",
    "        else: print(f'Test 2 failed')\n",
    "    def third(self):\n",
    "        if solution(\"2\", \"4\")==\"impossible\": print(f'Test 3 passed') \n",
    "        else: print(f'Test 3 failed')\n",
    "    def fourth(self):\n",
    "        if solution(\"-1\", \"2\")==\"impossible\": print(f'Test 4 passed') \n",
    "        else: print(f'Test 4 failed')\n",
    "        \n",
    "testshit()"
   ]
  },
  {
   "cell_type": "code",
   "execution_count": 16,
   "metadata": {},
   "outputs": [
    {
     "data": {
      "text/plain": [
       "'99'"
      ]
     },
     "execution_count": 16,
     "metadata": {},
     "output_type": "execute_result"
    }
   ],
   "source": [
    "#2\n",
    "def theidk(a,b):\n",
    "    returnthis=0    \n",
    "    if a > 10*b:\n",
    "        multiplier = int(a/b) -1\n",
    "        returnthis += multiplier\n",
    "        a = a - (multiplier*b)\n",
    "    else:\n",
    "        a-=b\n",
    "        returnthis += 1\n",
    "    return a, returnthis\n",
    "\n",
    "def solution(x,y):\n",
    "    x, y = int(x), int(y)\n",
    "    temp=0\n",
    "    while True:\n",
    "        if x==1 and y==1: return str(temp)\n",
    "        elif x<1 or y<1 or x==y: return \"impossible\"\n",
    "        else:\n",
    "            if x>y:x, iter=theidk(x,y)\n",
    "            elif y>x: y, iter=theidk(y,x)            \n",
    "            temp+=iter"
   ]
  },
  {
   "cell_type": "code",
   "execution_count": 17,
   "metadata": {},
   "outputs": [
    {
     "name": "stdout",
     "output_type": "stream",
     "text": [
      "Test 1 passed\n",
      "Test 2 passed\n"
     ]
    },
    {
     "ename": "KeyboardInterrupt",
     "evalue": "",
     "output_type": "error",
     "traceback": [
      "\u001b[1;31m---------------------------------------------------------------------------\u001b[0m",
      "\u001b[1;31mKeyboardInterrupt\u001b[0m                         Traceback (most recent call last)",
      "\u001b[1;32md:\\Kuliah\\!yes\\Pyth\\foo.bar\\3\\2.ipynb Cell 4\u001b[0m line \u001b[0;36m2\n\u001b[0;32m     <a href='vscode-notebook-cell:/d%3A/Kuliah/%21yes/Pyth/foo.bar/3/2.ipynb#W4sZmlsZQ%3D%3D?line=19'>20</a>\u001b[0m         \u001b[39mif\u001b[39;00m solution(\u001b[39m\"\u001b[39m\u001b[39m-1\u001b[39m\u001b[39m\"\u001b[39m, \u001b[39m\"\u001b[39m\u001b[39m2\u001b[39m\u001b[39m\"\u001b[39m)\u001b[39m==\u001b[39m\u001b[39m\"\u001b[39m\u001b[39mimpossible\u001b[39m\u001b[39m\"\u001b[39m: \u001b[39mprint\u001b[39m(\u001b[39mf\u001b[39m\u001b[39m'\u001b[39m\u001b[39mTest 4 passed\u001b[39m\u001b[39m'\u001b[39m) \n\u001b[0;32m     <a href='vscode-notebook-cell:/d%3A/Kuliah/%21yes/Pyth/foo.bar/3/2.ipynb#W4sZmlsZQ%3D%3D?line=20'>21</a>\u001b[0m         \u001b[39melse\u001b[39;00m: \u001b[39mprint\u001b[39m(\u001b[39mf\u001b[39m\u001b[39m'\u001b[39m\u001b[39mTest 4 failed\u001b[39m\u001b[39m'\u001b[39m)\n\u001b[1;32m---> <a href='vscode-notebook-cell:/d%3A/Kuliah/%21yes/Pyth/foo.bar/3/2.ipynb#W4sZmlsZQ%3D%3D?line=22'>23</a>\u001b[0m testshit()\n",
      "\u001b[1;32md:\\Kuliah\\!yes\\Pyth\\foo.bar\\3\\2.ipynb Cell 4\u001b[0m line \u001b[0;36m7\n\u001b[0;32m      <a href='vscode-notebook-cell:/d%3A/Kuliah/%21yes/Pyth/foo.bar/3/2.ipynb#W4sZmlsZQ%3D%3D?line=4'>5</a>\u001b[0m \u001b[39mself\u001b[39m\u001b[39m.\u001b[39mfirst()\n\u001b[0;32m      <a href='vscode-notebook-cell:/d%3A/Kuliah/%21yes/Pyth/foo.bar/3/2.ipynb#W4sZmlsZQ%3D%3D?line=5'>6</a>\u001b[0m \u001b[39mself\u001b[39m\u001b[39m.\u001b[39msecond()\n\u001b[1;32m----> <a href='vscode-notebook-cell:/d%3A/Kuliah/%21yes/Pyth/foo.bar/3/2.ipynb#W4sZmlsZQ%3D%3D?line=6'>7</a>\u001b[0m \u001b[39mself\u001b[39;49m\u001b[39m.\u001b[39;49mthird()\n\u001b[0;32m      <a href='vscode-notebook-cell:/d%3A/Kuliah/%21yes/Pyth/foo.bar/3/2.ipynb#W4sZmlsZQ%3D%3D?line=7'>8</a>\u001b[0m \u001b[39mself\u001b[39m\u001b[39m.\u001b[39mfourth()\n",
      "\u001b[1;32md:\\Kuliah\\!yes\\Pyth\\foo.bar\\3\\2.ipynb Cell 4\u001b[0m line \u001b[0;36m1\n\u001b[0;32m     <a href='vscode-notebook-cell:/d%3A/Kuliah/%21yes/Pyth/foo.bar/3/2.ipynb#W4sZmlsZQ%3D%3D?line=15'>16</a>\u001b[0m \u001b[39mdef\u001b[39;00m \u001b[39mthird\u001b[39m(\u001b[39mself\u001b[39m):\n\u001b[1;32m---> <a href='vscode-notebook-cell:/d%3A/Kuliah/%21yes/Pyth/foo.bar/3/2.ipynb#W4sZmlsZQ%3D%3D?line=16'>17</a>\u001b[0m     \u001b[39mif\u001b[39;00m solution(\u001b[39m\"\u001b[39;49m\u001b[39m2\u001b[39;49m\u001b[39m\"\u001b[39;49m, \u001b[39m\"\u001b[39;49m\u001b[39m4\u001b[39;49m\u001b[39m\"\u001b[39;49m)\u001b[39m==\u001b[39m\u001b[39m\"\u001b[39m\u001b[39mimpossible\u001b[39m\u001b[39m\"\u001b[39m: \u001b[39mprint\u001b[39m(\u001b[39mf\u001b[39m\u001b[39m'\u001b[39m\u001b[39mTest 3 passed\u001b[39m\u001b[39m'\u001b[39m) \n\u001b[0;32m     <a href='vscode-notebook-cell:/d%3A/Kuliah/%21yes/Pyth/foo.bar/3/2.ipynb#W4sZmlsZQ%3D%3D?line=17'>18</a>\u001b[0m     \u001b[39melse\u001b[39;00m: \u001b[39mprint\u001b[39m(\u001b[39mf\u001b[39m\u001b[39m'\u001b[39m\u001b[39mTest 3 failed\u001b[39m\u001b[39m'\u001b[39m)\n",
      "\u001b[1;32md:\\Kuliah\\!yes\\Pyth\\foo.bar\\3\\2.ipynb Cell 4\u001b[0m line \u001b[0;36m1\n\u001b[0;32m     <a href='vscode-notebook-cell:/d%3A/Kuliah/%21yes/Pyth/foo.bar/3/2.ipynb#W4sZmlsZQ%3D%3D?line=13'>14</a>\u001b[0m x, y \u001b[39m=\u001b[39m \u001b[39mint\u001b[39m(x), \u001b[39mint\u001b[39m(y)\n\u001b[0;32m     <a href='vscode-notebook-cell:/d%3A/Kuliah/%21yes/Pyth/foo.bar/3/2.ipynb#W4sZmlsZQ%3D%3D?line=14'>15</a>\u001b[0m temp\u001b[39m=\u001b[39m\u001b[39m0\u001b[39m\n\u001b[1;32m---> <a href='vscode-notebook-cell:/d%3A/Kuliah/%21yes/Pyth/foo.bar/3/2.ipynb#W4sZmlsZQ%3D%3D?line=15'>16</a>\u001b[0m \u001b[39mwhile\u001b[39;00m \u001b[39mTrue\u001b[39;00m:\n\u001b[0;32m     <a href='vscode-notebook-cell:/d%3A/Kuliah/%21yes/Pyth/foo.bar/3/2.ipynb#W4sZmlsZQ%3D%3D?line=16'>17</a>\u001b[0m     \u001b[39mif\u001b[39;00m x\u001b[39m==\u001b[39m\u001b[39m1\u001b[39m \u001b[39mand\u001b[39;00m y\u001b[39m==\u001b[39m\u001b[39m1\u001b[39m: \u001b[39mreturn\u001b[39;00m \u001b[39mstr\u001b[39m(temp)\n\u001b[0;32m     <a href='vscode-notebook-cell:/d%3A/Kuliah/%21yes/Pyth/foo.bar/3/2.ipynb#W4sZmlsZQ%3D%3D?line=17'>18</a>\u001b[0m     \u001b[39melif\u001b[39;00m x\u001b[39m<\u001b[39m\u001b[39m1\u001b[39m \u001b[39mor\u001b[39;00m y\u001b[39m<\u001b[39m\u001b[39m1\u001b[39m: \u001b[39mreturn\u001b[39;00m \u001b[39m\"\u001b[39m\u001b[39mimpossible\u001b[39m\u001b[39m\"\u001b[39m\n",
      "\u001b[1;31mKeyboardInterrupt\u001b[0m: "
     ]
    }
   ],
   "source": [
    "#tester\n",
    "\n",
    "class testshit:\n",
    "    def __init__(self):\n",
    "        self.first()\n",
    "        self.second()\n",
    "        self.third()\n",
    "        self.fourth()\n",
    "        \n",
    "    def first(self):\n",
    "        if solution(\"4\", \"7\")==\"4\": print(f'Test 1 passed') \n",
    "        else: print(f'Test 1 failed')\n",
    "    def second(self):\n",
    "        if solution(\"2\", \"1\")==\"1\": print(f'Test 2 passed') \n",
    "        else: print(f'Test 2 failed')\n",
    "    def third(self):\n",
    "        if solution(\"2\", \"4\")==\"impossible\": print(f'Test 3 passed') \n",
    "        else: print(f'Test 3 failed')\n",
    "    def fourth(self):\n",
    "        if solution(\"-1\", \"2\")==\"impossible\": print(f'Test 4 passed') \n",
    "        else: print(f'Test 4 failed')\n",
    "        \n",
    "testshit()"
   ]
  }
 ],
 "metadata": {
  "kernelspec": {
   "display_name": "Python 3",
   "language": "python",
   "name": "python3"
  },
  "language_info": {
   "codemirror_mode": {
    "name": "ipython",
    "version": 3
   },
   "file_extension": ".py",
   "mimetype": "text/x-python",
   "name": "python",
   "nbconvert_exporter": "python",
   "pygments_lexer": "ipython3",
   "version": "3.11.6"
  }
 },
 "nbformat": 4,
 "nbformat_minor": 2
}
