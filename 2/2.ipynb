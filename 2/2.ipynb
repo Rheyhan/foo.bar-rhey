{
 "cells": [
  {
   "cell_type": "code",
   "execution_count": 68,
   "metadata": {},
   "outputs": [],
   "source": [
    "def solution(xs):\n",
    "    if len(xs)==1:return str(xs[0])\n",
    "    if len(xs)>1:\n",
    "        positive=[i for i in xs if i>0]\n",
    "        negative=[i for i in xs if i<0]\n",
    "        \n",
    "        if len(positive)==0 and len(negative)==1: return str(0)\n",
    "\n",
    "        if len(negative)%2 ==1: negative.remove(max(negative))\n",
    "\n",
    "        pos_multiplication, neg_multiplication = 1, 1 \n",
    "        for i in positive: pos_multiplication*=i\n",
    "        for i in negative: neg_multiplication*=i\n",
    "\n",
    "        return str(pos_multiplication*neg_multiplication)\n",
    "    return str(0)"
   ]
  }
 ],
 "metadata": {
  "kernelspec": {
   "display_name": "Python 3",
   "language": "python",
   "name": "python3"
  },
  "language_info": {
   "codemirror_mode": {
    "name": "ipython",
    "version": 3
   },
   "file_extension": ".py",
   "mimetype": "text/x-python",
   "name": "python",
   "nbconvert_exporter": "python",
   "pygments_lexer": "ipython3",
   "version": "3.11.6"
  }
 },
 "nbformat": 4,
 "nbformat_minor": 2
}
