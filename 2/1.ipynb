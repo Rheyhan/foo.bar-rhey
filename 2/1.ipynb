{
 "cells": [
  {
   "cell_type": "code",
   "execution_count": 136,
   "metadata": {},
   "outputs": [
    {
     "data": {
      "text/plain": [
       "3"
      ]
     },
     "execution_count": 136,
     "metadata": {},
     "output_type": "execute_result"
    }
   ],
   "source": [
    "def base_converter(num, from_base=10, to_base=10):\n",
    "\n",
    "    decimal_num = int(str(num), from_base)\n",
    "    \n",
    "    result = \"\"\n",
    "    while decimal_num > 0:\n",
    "        remainder = decimal_num % to_base\n",
    "        result = str(remainder) + result\n",
    "        decimal_num //= to_base\n",
    "\n",
    "    return result\n",
    "\n",
    "def substractthing(x,y ,b):\n",
    "    if b==10: return int(x)-int(y)\n",
    "    z=int(base_converter(x,b)) - int(base_converter(y,b))\n",
    "    return base_converter(z, to_base=b)\n",
    "\n",
    "\n",
    "def solution(n,b):\n",
    "    k=len(n)\n",
    "    if (k>1 and k<10) and (b>1 and b<=10):\n",
    "        temp=[]\n",
    "        while True:\n",
    "            y=''.join(sorted(list(n), key=lambda x:x))\n",
    "            x=''.join(sorted(list(n), key=lambda x:x, reverse=True))\n",
    "            z=str(substractthing(x,y,b))\n",
    "            if(k>len(z)): z='0'*(k-len(z))+z\n",
    "            \n",
    "            n=z\n",
    "            temp.append(n)\n",
    "            try:\n",
    "                asu=[index for index, element in enumerate(temp[:-1]) if element == temp[-1]]\n",
    "                return len(temp)-1-asu[-1]\n",
    "            except:\n",
    "                pass\n",
    "        \n",
    "solution(\"210022\",3)"
   ]
  }
 ],
 "metadata": {
  "kernelspec": {
   "display_name": "Python 3",
   "language": "python",
   "name": "python3"
  },
  "language_info": {
   "codemirror_mode": {
    "name": "ipython",
    "version": 3
   },
   "file_extension": ".py",
   "mimetype": "text/x-python",
   "name": "python",
   "nbconvert_exporter": "python",
   "pygments_lexer": "ipython3",
   "version": "3.11.6"
  }
 },
 "nbformat": 4,
 "nbformat_minor": 2
}
